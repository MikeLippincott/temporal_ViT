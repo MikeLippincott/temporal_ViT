{
 "cells": [
  {
   "cell_type": "markdown",
   "metadata": {},
   "source": [
    "This notebook processes the files to be used for pre-training models.\n",
    "The data need to be in a specific format to be used for the model.\n",
    "Each of the zipped files will be unzipped and the data will be processed to be used for the model.\n",
    "I will also extract each frame from each video in the dataset and save it as an image."
   ]
  },
  {
   "cell_type": "code",
   "execution_count": 1,
   "metadata": {},
   "outputs": [],
   "source": [
    "import pathlib\n",
    "import shutil\n",
    "import zipfile\n",
    "\n",
    "import cv2\n",
    "import pandas as pd\n",
    "import py7zr\n",
    "import tifffile\n",
    "import tqdm"
   ]
  },
  {
   "cell_type": "code",
   "execution_count": 2,
   "metadata": {},
   "outputs": [],
   "source": [
    "# set processes to run\n",
    "run_convert_videos = True\n",
    "run_unzip_files = True"
   ]
  },
  {
   "cell_type": "markdown",
   "metadata": {},
   "source": [
    "### Functions"
   ]
  },
  {
   "cell_type": "code",
   "execution_count": 3,
   "metadata": {},
   "outputs": [],
   "source": [
    "def unzip_files(zip_file: pathlib.Path, output_dir: pathlib.Path) -> None:\n",
    "    \"\"\"\n",
    "    This function unzips a file from a directory to a specified directory.\n",
    "\n",
    "    Parameters\n",
    "    ----------\n",
    "    zip_file : pathlib.Path\n",
    "        The path to a specific zip file.\n",
    "    output_dir : pathlib.Path\n",
    "        The path to the directory where the unzipped files will be saved.\n",
    "\n",
    "    Returns\n",
    "    -------\n",
    "    None\n",
    "    \"\"\"\n",
    "    if zip_file.is_dir():\n",
    "        unzip_files(zip_file, output_dir)\n",
    "    elif zip_file.is_file():\n",
    "        try:\n",
    "            if zip_file.suffix == \".zip\":\n",
    "                # if the zip is already unzipped, skip it\n",
    "                if not (output_dir / zip_file.stem).exists():\n",
    "                    with zipfile.ZipFile(zip_file, \"r\") as zip_ref:\n",
    "                        zip_ref.extractall(pathlib.Path(output_dir / zip_file.stem))\n",
    "            elif zip_file.suffix == \".7z\":\n",
    "                if not (output_dir / zip_file.stem).exists():\n",
    "                    with py7zr.SevenZipFile(zip_file, mode=\"r\") as z7:\n",
    "                        z7.extractall(pathlib.Path(output_dir / zip_file.stem))\n",
    "            else:\n",
    "                print(f\"Unrecognized file type: {zip_file.suffix}\")\n",
    "        except Exception as e:\n",
    "            print(f\"Error extracting {zip_file}: {e}\")"
   ]
  },
  {
   "cell_type": "code",
   "execution_count": 4,
   "metadata": {},
   "outputs": [],
   "source": [
    "def unnest_list(list_of_lists: list) -> list:\n",
    "    \"\"\"This function unnests a list of lists.\n",
    "    or a list of lists of lists, etc.\n",
    "\n",
    "    Parameters\n",
    "    ----------\n",
    "    list_of_lists : list\n",
    "        A list of lists to be unnested\n",
    "\n",
    "    Returns\n",
    "    -------\n",
    "    list\n",
    "        A single list with all elements from the input list\n",
    "    \"\"\"\n",
    "    output_list = []\n",
    "    for l in list_of_lists:\n",
    "        if isinstance(l, list):\n",
    "            output_list.extend(unnest_list(l))\n",
    "        else:\n",
    "            output_list.append(l)\n",
    "    return output_list"
   ]
  },
  {
   "cell_type": "code",
   "execution_count": 5,
   "metadata": {},
   "outputs": [],
   "source": [
    "def get_files_from_dir(dir: pathlib.Path) -> list:\n",
    "    \"\"\"\n",
    "    This function gets all files from a directory and its subdirectories.\n",
    "\n",
    "    Parameters\n",
    "    ----------\n",
    "    dir : pathlib.Path\n",
    "        The path to the directory.\n",
    "\n",
    "    Returns\n",
    "    -------\n",
    "    list\n",
    "        A list of all files in the directory and its subdirectories.\n",
    "    \"\"\"\n",
    "    list_of_files = list(dir.glob(\"*\"))\n",
    "    output_list = []\n",
    "    for dir in list_of_files:\n",
    "        if dir.is_file():\n",
    "            output_list.append(dir)\n",
    "        elif dir.is_dir():\n",
    "            output_list.append(get_files_from_dir(dir))\n",
    "    return output_list"
   ]
  },
  {
   "cell_type": "code",
   "execution_count": 6,
   "metadata": {},
   "outputs": [],
   "source": [
    "def get_dir_of_files(dir: pathlib.Path) -> list:\n",
    "    \"\"\"This function gets all directories that contain files.\n",
    "    Specifically, it gets all directories that contain files that are not .zip or .7z files.\n",
    "\n",
    "    Parameters\n",
    "    ----------\n",
    "    dir : pathlib.Path\n",
    "        The path to the directory.\n",
    "\n",
    "    Returns\n",
    "    -------\n",
    "    list\n",
    "        A list of all directories that contain files that are not .zip or .7z files.\n",
    "    \"\"\"\n",
    "    list_of_files = list(dir.glob(\"*\"))\n",
    "    output_list = []\n",
    "    for dir in list_of_files:\n",
    "        # get the number of files in the directory\n",
    "        if (\n",
    "            len(\n",
    "                [\n",
    "                    i\n",
    "                    for i in dir.glob(\"*\")\n",
    "                    if i.is_file()\n",
    "                    and not (\n",
    "                        i.name.endswith(\".zip\")\n",
    "                        or i.name.endswith(\".7z\")\n",
    "                        or i.name.endswith(\"csv\")\n",
    "                        or i.name.endswith(\"txt\")\n",
    "                    )\n",
    "                ]\n",
    "            )\n",
    "            > 0\n",
    "        ):\n",
    "            output_list.append(dir)\n",
    "        elif dir.is_dir():\n",
    "            output_list.append(get_dir_of_files(dir))\n",
    "    return output_list"
   ]
  },
  {
   "cell_type": "markdown",
   "metadata": {},
   "source": [
    "### Data Processing Steps:\n",
    "1. Unzip the files\n",
    "2. Move the files to the correct directory\n",
    "3. Extract the frames from the videos and save them as images"
   ]
  },
  {
   "cell_type": "markdown",
   "metadata": {},
   "source": [
    "## Unzip the files"
   ]
  },
  {
   "cell_type": "code",
   "execution_count": 7,
   "metadata": {},
   "outputs": [
    {
     "name": "stdout",
     "output_type": "stream",
     "text": [
      "36\n"
     ]
    },
    {
     "name": "stderr",
     "output_type": "stream",
     "text": [
      "100%|██████████| 36/36 [00:00<00:00, 43804.74it/s]\n"
     ]
    },
    {
     "name": "stdout",
     "output_type": "stream",
     "text": [
      "7\n"
     ]
    },
    {
     "name": "stderr",
     "output_type": "stream",
     "text": [
      "100%|██████████| 7/7 [00:00<00:00, 21107.21it/s]\n"
     ]
    }
   ],
   "source": [
    "if run_unzip_files:\n",
    "    # set path to the directory containing the zips\n",
    "    all_zips_Path = pathlib.Path(\n",
    "        \"/home/lippincm/Desktop/18TB/timelapse_data_landscapes/raw_zips/\"\n",
    "    ).resolve(strict=True)\n",
    "    # get a list of all \".zip and .7z\" files in the directory\n",
    "    list_of_zips = list(all_zips_Path.glob(\"*.zip\")) + list(all_zips_Path.glob(\"*.7z\"))\n",
    "    print(len(list_of_zips))\n",
    "\n",
    "    # unzip the files and save them in the same directory\n",
    "    output_dir = pathlib.Path(\n",
    "        \"/home/lippincm/Desktop/18TB/timelapse_data_landscapes/unzipped/\"\n",
    "    ).resolve()\n",
    "    output_dir.mkdir(parents=True, exist_ok=True)\n",
    "    for z in tqdm.tqdm(list_of_zips):\n",
    "        unzip_files(z, output_dir)\n",
    "\n",
    "    # get a list of all dirs in the unzipped directory for nested zip files\n",
    "    list_of_extracted_files = get_files_from_dir(output_dir)\n",
    "    list_of_extracted_files = unnest_list(list_of_extracted_files)\n",
    "    # unzip the files and save them in the same directory\n",
    "    list_of_extracted_files = [\n",
    "        f for f in list_of_extracted_files if f.suffix == \".zip\" or f.suffix == \".7z\"\n",
    "    ]\n",
    "    print(len(list_of_extracted_files))\n",
    "    for f in tqdm.tqdm(list_of_extracted_files):\n",
    "        unzip_files(f, f.parent)"
   ]
  },
  {
   "cell_type": "markdown",
   "metadata": {},
   "source": [
    "## Organize files for frame extraction"
   ]
  },
  {
   "cell_type": "code",
   "execution_count": 8,
   "metadata": {},
   "outputs": [
    {
     "name": "stdout",
     "output_type": "stream",
     "text": [
      "637\n",
      "Unrecognized file type: .json\n"
     ]
    }
   ],
   "source": [
    "# get a list of all dirs in the unzipped directory for nested zip files\n",
    "output_list = get_dir_of_files(output_dir)\n",
    "# unnest the list of lists\n",
    "output_list = unnest_list(output_list)\n",
    "print(len(output_list))\n",
    "# loop through the list of directories and move the files to the appropriate directory\n",
    "for dir in output_list:\n",
    "    # get all files in the directory\n",
    "    files = list(dir.glob(\"*\"))\n",
    "    if files[0].suffix == \".jpg\":\n",
    "        new_dir_path = pathlib.Path(\n",
    "            f\"/home/lippincm/Desktop/18TB/timelapse_data_landscapes/tiff_frames/{dir.name}\"\n",
    "        )\n",
    "        if not new_dir_path.exists():\n",
    "            shutil.move(dir, new_dir_path)\n",
    "    elif files[0].suffix == \".mp4\":\n",
    "        new_dir_path = pathlib.Path(\n",
    "            f\"/home/lippincm/Desktop/18TB/timelapse_data_landscapes/raw_videos/{dir.name}\"\n",
    "        )\n",
    "        if not new_dir_path.exists():\n",
    "            shutil.move(dir, new_dir_path)\n",
    "    else:\n",
    "        print(f\"Unrecognized file type: {files[0].suffix}\")"
   ]
  },
  {
   "cell_type": "markdown",
   "metadata": {},
   "source": [
    "## Convert the videos to images"
   ]
  },
  {
   "cell_type": "code",
   "execution_count": 9,
   "metadata": {},
   "outputs": [
    {
     "name": "stdout",
     "output_type": "stream",
     "text": [
      "30803\n",
      "30802\n"
     ]
    },
    {
     "name": "stderr",
     "output_type": "stream",
     "text": [
      "  8%|▊         | 2320/30802 [17:03<7:51:55,  1.01it/s][h264 @ 0x625e6b8f8400] error while decoding MB 64 31, bytestream -6\n",
      " 17%|█▋        | 5162/30802 [40:48<4:40:35,  1.52it/s] [h264 @ 0x625e6b6df700] error while decoding MB 35 8, bytestream -5\n",
      " 26%|██▌       | 7888/30802 [1:02:50<2:17:25,  2.78it/s][h264 @ 0x625e6bb4f5c0] error while decoding MB 25 24, bytestream -6\n",
      " 87%|████████▋ | 26756/30802 [3:50:13<40:22,  1.67it/s]   [h264 @ 0x625e6d75ffc0] error while decoding MB 45 39, bytestream -28\n",
      " 96%|█████████▌| 29585/30802 [4:24:41<27:22,  1.35s/it]  [h264 @ 0x625e6b7b76c0] error while decoding MB 82 20, bytestream -8\n",
      "100%|██████████| 30802/30802 [4:40:44<00:00,  1.83it/s]  \n"
     ]
    }
   ],
   "source": [
    "if run_convert_videos:\n",
    "    # set the path to the directory containing the files\n",
    "    all_videos_Path = pathlib.Path(\n",
    "        \"/home/lippincm/Desktop/18TB/timelapse_data_landscapes/raw_videos/\"\n",
    "    ).resolve(strict=True)\n",
    "    # ouput directory for the tiff files of frames\n",
    "    output_dir = pathlib.Path(\n",
    "        \"/home/lippincm/Desktop/18TB/timelapse_data_landscapes/tiff_frames/\"\n",
    "    ).resolve()\n",
    "    output_dir.mkdir(parents=True, exist_ok=True)\n",
    "    # get a list of all the files in the directory\n",
    "    list_of_files = get_files_from_dir(all_videos_Path)\n",
    "    list_of_files = unnest_list(list_of_files)\n",
    "    print(len(list_of_files))\n",
    "    list_of_files = [f for f in list_of_files if f.suffix == \".mp4\"]\n",
    "    print(len(list_of_files))\n",
    "    metadata_dict = {\n",
    "        \"file_name\": [],\n",
    "        \"file_path\": [],\n",
    "        \"file_size\": [],\n",
    "        \"fps\": [],\n",
    "        \"frame_count\": [],\n",
    "        \"duration\": [],\n",
    "        \"width\": [],\n",
    "        \"height\": [],\n",
    "        \"num_pixels\": [],\n",
    "    }\n",
    "\n",
    "    for video in tqdm.tqdm(list_of_files):\n",
    "        # extract metadata from the video\n",
    "        cap = cv2.VideoCapture(str(video))\n",
    "        metadata_dict[\"file_name\"].append(video.name)\n",
    "        metadata_dict[\"file_path\"].append(video)\n",
    "        metadata_dict[\"file_size\"].append(video.stat().st_size)\n",
    "        metadata_dict[\"fps\"].append(cap.get(cv2.CAP_PROP_FPS))\n",
    "        metadata_dict[\"frame_count\"].append(int(cap.get(cv2.CAP_PROP_FRAME_COUNT)))\n",
    "        metadata_dict[\"duration\"].append(\n",
    "            metadata_dict[\"frame_count\"][-1] / metadata_dict[\"fps\"][-1]\n",
    "        )\n",
    "        metadata_dict[\"width\"].append(cap.get(cv2.CAP_PROP_FRAME_WIDTH))\n",
    "        metadata_dict[\"height\"].append(cap.get(cv2.CAP_PROP_FRAME_HEIGHT))\n",
    "        metadata_dict[\"num_pixels\"].append(\n",
    "            metadata_dict[\"width\"][-1] * metadata_dict[\"height\"][-1]\n",
    "        )\n",
    "        video_output_path = pathlib.Path(f\"{output_dir}/{video.stem}\").resolve()\n",
    "        video_output_path.mkdir(parents=True, exist_ok=True)\n",
    "\n",
    "        # load the video\n",
    "        cap = cv2.VideoCapture(str(video))\n",
    "        # iterate over the frames and save them as tiff files\n",
    "        for frame in range(int(cap.get(cv2.CAP_PROP_FRAME_COUNT))):\n",
    "            cap.set(cv2.CAP_PROP_FRAME_COUNT, frame)\n",
    "            ret, img = cap.read()\n",
    "            img_file_path = pathlib.Path(\n",
    "                f\"{video_output_path}/{frame}_{video.stem}.tiff\"\n",
    "            ).resolve()\n",
    "            if ret:\n",
    "                if not img_file_path.exists():\n",
    "                    tifffile.imwrite(\n",
    "                        img_file_path,\n",
    "                        img,\n",
    "                    )\n",
    "        cap.release()\n",
    "    # write the metadata to a csv file\n",
    "    metadata_df = pd.DataFrame(metadata_dict)\n",
    "    metadata_df.to_csv(output_dir / \"metadata_of_tiffs.csv\", index=False)"
   ]
  },
  {
   "cell_type": "code",
   "execution_count": 10,
   "metadata": {},
   "outputs": [
    {
     "data": {
      "text/html": [
       "<div>\n",
       "<style scoped>\n",
       "    .dataframe tbody tr th:only-of-type {\n",
       "        vertical-align: middle;\n",
       "    }\n",
       "\n",
       "    .dataframe tbody tr th {\n",
       "        vertical-align: top;\n",
       "    }\n",
       "\n",
       "    .dataframe thead th {\n",
       "        text-align: right;\n",
       "    }\n",
       "</style>\n",
       "<table border=\"1\" class=\"dataframe\">\n",
       "  <thead>\n",
       "    <tr style=\"text-align: right;\">\n",
       "      <th></th>\n",
       "      <th>file_name</th>\n",
       "      <th>file_path</th>\n",
       "      <th>file_size</th>\n",
       "      <th>fps</th>\n",
       "      <th>frame_count</th>\n",
       "      <th>duration</th>\n",
       "      <th>width</th>\n",
       "      <th>height</th>\n",
       "      <th>num_pixels</th>\n",
       "    </tr>\n",
       "  </thead>\n",
       "  <tbody>\n",
       "    <tr>\n",
       "      <th>0</th>\n",
       "      <td>20140420_1329-1413utc_Holy-vrch_Milesovka.mp4</td>\n",
       "      <td>/home/lippincm/Desktop/18TB/timelapse_data_lan...</td>\n",
       "      <td>26307800</td>\n",
       "      <td>30.0</td>\n",
       "      <td>637</td>\n",
       "      <td>21.233333</td>\n",
       "      <td>1280.0</td>\n",
       "      <td>720.0</td>\n",
       "      <td>921600.0</td>\n",
       "    </tr>\n",
       "    <tr>\n",
       "      <th>1</th>\n",
       "      <td>getty-aerial-shots-of-antiausterity-protesters...</td>\n",
       "      <td>/home/lippincm/Desktop/18TB/timelapse_data_lan...</td>\n",
       "      <td>647472</td>\n",
       "      <td>30.0</td>\n",
       "      <td>91</td>\n",
       "      <td>3.033333</td>\n",
       "      <td>640.0</td>\n",
       "      <td>360.0</td>\n",
       "      <td>230400.0</td>\n",
       "    </tr>\n",
       "    <tr>\n",
       "      <th>2</th>\n",
       "      <td>getty-bangladeshi-people-gather-at-an-intersec...</td>\n",
       "      <td>/home/lippincm/Desktop/18TB/timelapse_data_lan...</td>\n",
       "      <td>497720</td>\n",
       "      <td>25.0</td>\n",
       "      <td>75</td>\n",
       "      <td>3.000000</td>\n",
       "      <td>640.0</td>\n",
       "      <td>360.0</td>\n",
       "      <td>230400.0</td>\n",
       "    </tr>\n",
       "    <tr>\n",
       "      <th>3</th>\n",
       "      <td>getty-exterior-shots-of-refugees-queuing-up-to...</td>\n",
       "      <td>/home/lippincm/Desktop/18TB/timelapse_data_lan...</td>\n",
       "      <td>358155</td>\n",
       "      <td>30.0</td>\n",
       "      <td>90</td>\n",
       "      <td>3.000000</td>\n",
       "      <td>640.0</td>\n",
       "      <td>360.0</td>\n",
       "      <td>230400.0</td>\n",
       "    </tr>\n",
       "    <tr>\n",
       "      <th>4</th>\n",
       "      <td>getty-blonde-athletic-woman-registering-for-5k...</td>\n",
       "      <td>/home/lippincm/Desktop/18TB/timelapse_data_lan...</td>\n",
       "      <td>515408</td>\n",
       "      <td>30.0</td>\n",
       "      <td>90</td>\n",
       "      <td>3.000000</td>\n",
       "      <td>640.0</td>\n",
       "      <td>360.0</td>\n",
       "      <td>230400.0</td>\n",
       "    </tr>\n",
       "  </tbody>\n",
       "</table>\n",
       "</div>"
      ],
      "text/plain": [
       "                                           file_name   \n",
       "0      20140420_1329-1413utc_Holy-vrch_Milesovka.mp4  \\\n",
       "1  getty-aerial-shots-of-antiausterity-protesters...   \n",
       "2  getty-bangladeshi-people-gather-at-an-intersec...   \n",
       "3  getty-exterior-shots-of-refugees-queuing-up-to...   \n",
       "4  getty-blonde-athletic-woman-registering-for-5k...   \n",
       "\n",
       "                                           file_path  file_size   fps   \n",
       "0  /home/lippincm/Desktop/18TB/timelapse_data_lan...   26307800  30.0  \\\n",
       "1  /home/lippincm/Desktop/18TB/timelapse_data_lan...     647472  30.0   \n",
       "2  /home/lippincm/Desktop/18TB/timelapse_data_lan...     497720  25.0   \n",
       "3  /home/lippincm/Desktop/18TB/timelapse_data_lan...     358155  30.0   \n",
       "4  /home/lippincm/Desktop/18TB/timelapse_data_lan...     515408  30.0   \n",
       "\n",
       "   frame_count   duration   width  height  num_pixels  \n",
       "0          637  21.233333  1280.0   720.0    921600.0  \n",
       "1           91   3.033333   640.0   360.0    230400.0  \n",
       "2           75   3.000000   640.0   360.0    230400.0  \n",
       "3           90   3.000000   640.0   360.0    230400.0  \n",
       "4           90   3.000000   640.0   360.0    230400.0  "
      ]
     },
     "execution_count": 10,
     "metadata": {},
     "output_type": "execute_result"
    }
   ],
   "source": [
    "metadata_df.head()"
   ]
  }
 ],
 "metadata": {
  "kernelspec": {
   "display_name": "timelapse_env",
   "language": "python",
   "name": "python3"
  },
  "language_info": {
   "codemirror_mode": {
    "name": "ipython",
    "version": 3
   },
   "file_extension": ".py",
   "mimetype": "text/x-python",
   "name": "python",
   "nbconvert_exporter": "python",
   "pygments_lexer": "ipython3",
   "version": "3.11.9"
  }
 },
 "nbformat": 4,
 "nbformat_minor": 2
}
