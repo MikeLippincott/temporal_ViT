{
 "cells": [
  {
   "cell_type": "markdown",
   "metadata": {},
   "source": [
    "This noteboook downloads the MNIST dataset"
   ]
  },
  {
   "cell_type": "code",
   "execution_count": 1,
   "metadata": {},
   "outputs": [],
   "source": [
    "import pathlib\n",
    "import pickle\n",
    "\n",
    "# mnist data parser import\n",
    "import mnist"
   ]
  },
  {
   "cell_type": "code",
   "execution_count": 2,
   "metadata": {},
   "outputs": [],
   "source": [
    "mnist.datasets_url = \"https://storage.googleapis.com/cvdf-datasets/mnist/\"\n",
    "\n",
    "# make the mnist directory\n",
    "mnist_path = pathlib.Path(\"../../data/mnist\")\n",
    "mnist_path.mkdir(parents=True, exist_ok=True)\n",
    "\n",
    "# package specific path to mnist data\n",
    "mnist.temporary_dir = lambda: str(mnist_path)"
   ]
  },
  {
   "cell_type": "code",
   "execution_count": 3,
   "metadata": {},
   "outputs": [],
   "source": [
    "train_images = mnist.train_images()\n",
    "train_labels = mnist.train_labels()\n",
    "test_images = mnist.test_images()\n",
    "test_labels = mnist.test_labels()"
   ]
  },
  {
   "cell_type": "code",
   "execution_count": 4,
   "metadata": {},
   "outputs": [
    {
     "name": "stdout",
     "output_type": "stream",
     "text": [
      "Saving data into a pickle file ...\n"
     ]
    }
   ],
   "source": [
    "print(\"Saving data into a pickle file ...\")\n",
    "data = {\n",
    "    \"train_image\": train_images,\n",
    "    \"train_label\": train_labels,\n",
    "    \"test_image\": test_images,\n",
    "    \"test_label\": test_labels,\n",
    "}\n",
    "with open(\"../../data/mnist/MNIST.pkl\", \"wb\") as file_handle:\n",
    "    pickle.dump(data, file_handle)"
   ]
  }
 ],
 "metadata": {
  "kernelspec": {
   "display_name": "timelapse_ViT_env",
   "language": "python",
   "name": "python3"
  },
  "language_info": {
   "codemirror_mode": {
    "name": "ipython",
    "version": 3
   },
   "file_extension": ".py",
   "mimetype": "text/x-python",
   "name": "python",
   "nbconvert_exporter": "python",
   "pygments_lexer": "ipython3",
   "version": "3.12.4"
  }
 },
 "nbformat": 4,
 "nbformat_minor": 2
}
